{
 "cells": [
  {
   "cell_type": "markdown",
   "metadata": {},
   "source": [
    "This example is to optimize hyperparameters for an XGBoost model using Bayesian optimization.\n",
    "\n",
    "Import some packages required to this example."
   ]
  },
  {
   "cell_type": "code",
   "execution_count": null,
   "metadata": {},
   "outputs": [],
   "source": [
    "%matplotlib inline\n",
    "\n",
    "import numpy as np\n",
    "import xgboost as xgb\n",
    "import sklearn.datasets\n",
    "import sklearn.metrics\n",
    "import sklearn.model_selection\n",
    "\n",
    "from bayeso import bo\n",
    "from bayeso.wrappers import wrappers_bo_function\n",
    "from bayeso.utils import utils_plotting"
   ]
  },
  {
   "cell_type": "markdown",
   "metadata": {},
   "source": [
    "Load and pre-process a dataset."
   ]
  },
  {
   "cell_type": "code",
   "execution_count": null,
   "metadata": {},
   "outputs": [],
   "source": [
    "digits = sklearn.datasets.load_digits()\n",
    "data_digits = digits.images\n",
    "data_digits = np.reshape(data_digits,\n",
    "    (data_digits.shape[0], data_digits.shape[1] * data_digits.shape[2]))\n",
    "labels_digits = digits.target\n",
    "\n",
    "data_train, data_test, labels_train, labels_test = sklearn.model_selection.train_test_split(\n",
    "    data_digits, labels_digits, test_size=0.3, stratify=labels_digits)"
   ]
  },
  {
   "cell_type": "markdown",
   "metadata": {},
   "source": [
    "Define a target objective function."
   ]
  },
  {
   "cell_type": "code",
   "execution_count": null,
   "metadata": {},
   "outputs": [],
   "source": [
    "def fun_target(bx):\n",
    "    model_xgb = xgb.XGBClassifier(\n",
    "        max_depth=int(bx[0]),\n",
    "        n_estimators=int(bx[1]),\n",
    "        use_label_encoder=False\n",
    "    )\n",
    "    model_xgb.fit(data_train, labels_train, eval_metric='mlogloss')\n",
    "    preds_test = model_xgb.predict(data_test)\n",
    "    return 1.0 - sklearn.metrics.accuracy_score(labels_test, preds_test)"
   ]
  },
  {
   "cell_type": "markdown",
   "metadata": {},
   "source": [
    "Declare parameters we need."
   ]
  },
  {
   "cell_type": "code",
   "execution_count": null,
   "metadata": {},
   "outputs": [],
   "source": [
    "str_fun = 'xgboost'\n",
    "\n",
    "# (max_depth, n_estimators)\n",
    "bounds = np.array([[1, 10], [100, 500]])\n",
    "num_bo = 10\n",
    "num_iter = 10\n",
    "num_init = 3"
   ]
  },
  {
   "cell_type": "markdown",
   "metadata": {},
   "source": [
    "Run `num_bo` Bayesian optimization rounds."
   ]
  },
  {
   "cell_type": "code",
   "execution_count": null,
   "metadata": {},
   "outputs": [],
   "source": [
    "model_bo = bo.BO(bounds, debug=False)\n",
    "\n",
    "list_Y = []\n",
    "list_time = []\n",
    "\n",
    "for ind_bo in range(0, num_bo):\n",
    "    print('BO Round', ind_bo + 1)\n",
    "    X_final, Y_final, time_final, _, _ = wrappers_bo_function.run_single_round(\n",
    "        model_bo, fun_target, num_init, num_iter,\n",
    "        str_initial_method_bo='uniform', str_sampling_method_ao='uniform',\n",
    "        num_samples_ao=100, seed=42 * ind_bo)\n",
    "    list_Y.append(Y_final)\n",
    "    list_time.append(time_final)\n",
    "    \n",
    "arr_Y = np.array(list_Y)\n",
    "arr_time = np.array(list_time)\n",
    "\n",
    "arr_Y = np.expand_dims(np.squeeze(arr_Y), axis=0)\n",
    "arr_time = np.expand_dims(arr_time, axis=0)"
   ]
  },
  {
   "cell_type": "markdown",
   "metadata": {},
   "source": [
    "Plot results versus iterations and elapsed times."
   ]
  },
  {
   "cell_type": "code",
   "execution_count": null,
   "metadata": {},
   "outputs": [],
   "source": [
    "utils_plotting.plot_minimum_vs_iter(arr_Y, [str_fun], num_init, True,\n",
    "    use_tex=True,\n",
    "    str_x_axis=r'\\textrm{Iteration}',\n",
    "    str_y_axis=r'$1 - $\\textrm{Accuracy}')\n",
    "utils_plotting.plot_minimum_vs_time(arr_time, arr_Y, [str_fun], num_init, True,\n",
    "    use_tex=True,\n",
    "    str_x_axis=r'\\textrm{Time (sec.)}',\n",
    "    str_y_axis=r'$1 - $\\textrm{Accuracy}')"
   ]
  },
  {
   "cell_type": "code",
   "execution_count": null,
   "metadata": {},
   "outputs": [],
   "source": []
  }
 ],
 "metadata": {
  "kernelspec": {
   "display_name": "Python 3.7",
   "language": "python",
   "name": "python3"
  },
  "language_info": {
   "codemirror_mode": {
    "name": "ipython",
    "version": 3
   },
   "file_extension": ".py",
   "mimetype": "text/x-python",
   "name": "python",
   "nbconvert_exporter": "python",
   "pygments_lexer": "ipython3",
   "version": "3.7.0"
  }
 },
 "nbformat": 4,
 "nbformat_minor": 4
}
