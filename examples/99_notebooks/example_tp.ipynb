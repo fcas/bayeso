{
 "cells": [
  {
   "cell_type": "code",
   "execution_count": null,
   "metadata": {},
   "outputs": [],
   "source": [
    "%matplotlib inline\n",
    "\n",
    "import numpy as np\n",
    "\n",
    "from bayeso import covariance\n",
    "from bayeso.tp import tp\n",
    "from bayeso.gp import gp\n",
    "from bayeso.utils import utils_covariance\n",
    "from bayeso.utils import utils_plotting"
   ]
  },
  {
   "cell_type": "code",
   "execution_count": null,
   "metadata": {},
   "outputs": [],
   "source": [
    "use_tex = False\n",
    "num_test = 200\n",
    "str_cov = 'matern52'"
   ]
  },
  {
   "cell_type": "code",
   "execution_count": null,
   "metadata": {},
   "outputs": [],
   "source": [
    "X_train = np.array([\n",
    "    [-3.0],\n",
    "    [-2.0],\n",
    "    [-1.0],\n",
    "    [1.1],\n",
    "    [1.2],\n",
    "    [2.5],\n",
    "])\n",
    "Y_train = np.cos(X_train) + 10.0 + np.random.randn(*X_train.shape)\n",
    "\n",
    "X_test = np.linspace(-3, 3, num_test)\n",
    "X_test = X_test.reshape((num_test, 1))\n",
    "Y_test = np.cos(X_test) + 10.0"
   ]
  },
  {
   "cell_type": "code",
   "execution_count": null,
   "metadata": {},
   "outputs": [],
   "source": [
    "mu = np.zeros(num_test)\n",
    "hyps = utils_covariance.get_hyps(str_cov, 1, use_gp=False)\n",
    "Sigma = covariance.cov_main(str_cov, X_test, X_test, hyps, True)\n",
    "\n",
    "Ys = tp.sample_functions(hyps['dof'], mu, Sigma, num_samples=200)\n",
    "utils_plotting.plot_gp_via_sample(X_test, Ys, use_tex=use_tex,\n",
    "                                  str_x_axis='$x$', str_y_axis='$y$')\n",
    "\n",
    "hyps = utils_covariance.get_hyps(str_cov, 1)\n",
    "Sigma = covariance.cov_main(str_cov, X_test, X_test, hyps, True)\n",
    "\n",
    "Ys = gp.sample_functions(mu, Sigma, num_samples=200)\n",
    "utils_plotting.plot_gp_via_sample(X_test, Ys, use_tex=use_tex,\n",
    "                                  str_x_axis='$x$', str_y_axis='$y$')"
   ]
  },
  {
   "cell_type": "code",
   "execution_count": null,
   "metadata": {},
   "outputs": [],
   "source": [
    "hyps = utils_covariance.get_hyps(str_cov, 1, use_gp=False)\n",
    "nu, mu, sigma, Sigma = tp.predict_with_hyps(X_train, Y_train, X_test, hyps, str_cov=str_cov)\n",
    "utils_plotting.plot_gp_via_distribution(\n",
    "    X_train, Y_train, X_test, mu, sigma,\n",
    "    Y_test=Y_test, use_tex=use_tex,\n",
    "    str_x_axis='$x$', str_y_axis='$y$'\n",
    ")\n",
    "\n",
    "Ys = tp.sample_functions(nu, mu.flatten(), Sigma, num_samples=5)\n",
    "utils_plotting.plot_gp_via_sample(X_test, Ys, use_tex=use_tex,\n",
    "                                  str_x_axis='$x$', str_y_axis='$y$')\n",
    "\n",
    "hyps = utils_covariance.get_hyps(str_cov, 1)\n",
    "mu, sigma, Sigma = gp.predict_with_hyps(X_train, Y_train, X_test, hyps, str_cov=str_cov)\n",
    "utils_plotting.plot_gp_via_distribution(\n",
    "    X_train, Y_train, X_test, mu, sigma,\n",
    "    Y_test=Y_test, use_tex=use_tex,\n",
    "    str_x_axis='$x$', str_y_axis='$y$'\n",
    ")\n",
    "\n",
    "Ys = gp.sample_functions(mu.flatten(), Sigma, num_samples=5)\n",
    "utils_plotting.plot_gp_via_sample(X_test, Ys, use_tex=use_tex,\n",
    "                                  str_x_axis='$x$', str_y_axis='$y$')"
   ]
  },
  {
   "cell_type": "code",
   "execution_count": null,
   "metadata": {
    "scrolled": false
   },
   "outputs": [],
   "source": [
    "nu, mu, sigma, Sigma = tp.predict_with_optimized_hyps(X_train, Y_train, X_test, str_cov=str_cov, fix_noise=True,\n",
    "                                                      debug=True)\n",
    "utils_plotting.plot_gp_via_distribution(\n",
    "    X_train, Y_train, X_test, mu, sigma,\n",
    "    Y_test=Y_test, use_tex=use_tex,\n",
    "    str_x_axis='$x$', str_y_axis='$y$'\n",
    ")\n",
    "\n",
    "Ys = tp.sample_functions(nu, mu.flatten(), Sigma, num_samples=5)\n",
    "utils_plotting.plot_gp_via_sample(X_test, Ys, use_tex=use_tex,\n",
    "                                  str_x_axis='$x$', str_y_axis='$y$')\n",
    "\n",
    "mu, sigma, Sigma = gp.predict_with_optimized_hyps(X_train, Y_train, X_test, str_cov=str_cov, fix_noise=True,\n",
    "                                                  debug=True)\n",
    "utils_plotting.plot_gp_via_distribution(\n",
    "    X_train, Y_train, X_test, mu, sigma,\n",
    "    Y_test=Y_test, use_tex=use_tex,\n",
    "    str_x_axis='$x$', str_y_axis='$y$'\n",
    ")\n",
    "\n",
    "Ys = gp.sample_functions(mu.flatten(), Sigma, num_samples=5)\n",
    "utils_plotting.plot_gp_via_sample(X_test, Ys, use_tex=use_tex,\n",
    "                                  str_x_axis='$x$', str_y_axis='$y$')"
   ]
  },
  {
   "cell_type": "code",
   "execution_count": null,
   "metadata": {},
   "outputs": [],
   "source": [
    "def cosine(X):\n",
    "    return np.cos(X)\n",
    "\n",
    "def linear_down(X):\n",
    "    list_up = []\n",
    "    for elem_X in X:\n",
    "        list_up.append([-0.5 * np.sum(elem_X)])\n",
    "    return np.array(list_up)\n",
    "\n",
    "def linear_up(X):\n",
    "    list_up = []\n",
    "    for elem_X in X:\n",
    "        list_up.append([0.5 * np.sum(elem_X)])\n",
    "    return np.array(list_up)"
   ]
  },
  {
   "cell_type": "code",
   "execution_count": null,
   "metadata": {},
   "outputs": [],
   "source": [
    "X_train_ = np.array([\n",
    "    [-3.0],\n",
    "    [-2.0],\n",
    "    [-1.0],\n",
    "])\n",
    "Y_train_ = np.cos(X_train_) + 2.0 + np.random.randn(*X_train_.shape)\n",
    "X_test_ = np.linspace(-3, 6, num_test)\n",
    "X_test_ = X_test_.reshape((num_test, 1))\n",
    "Y_test_ = np.cos(X_test_) + 2.0"
   ]
  },
  {
   "cell_type": "code",
   "execution_count": null,
   "metadata": {},
   "outputs": [],
   "source": [
    "prior_mu = cosine\n",
    "nu, mu, sigma, Sigma = tp.predict_with_optimized_hyps(X_train_, Y_train_, X_test_,\n",
    "                                                      str_cov=str_cov, prior_mu=prior_mu,\n",
    "                                                      debug=True)\n",
    "utils_plotting.plot_gp_via_distribution(\n",
    "    X_train_, Y_train_, X_test_, mu, sigma,\n",
    "    Y_test=Y_test_, use_tex=use_tex,\n",
    "    str_x_axis='$x$', str_y_axis='$y$'\n",
    ")\n",
    "\n",
    "Ys = tp.sample_functions(nu, mu.flatten(), Sigma, num_samples=5)\n",
    "utils_plotting.plot_gp_via_sample(X_test_, Ys, use_tex=use_tex,\n",
    "                                  str_x_axis='$x$', str_y_axis='$y$')"
   ]
  },
  {
   "cell_type": "code",
   "execution_count": null,
   "metadata": {},
   "outputs": [],
   "source": [
    "prior_mu = linear_down\n",
    "nu, mu, sigma, Sigma = tp.predict_with_optimized_hyps(X_train_, Y_train_, X_test_,\n",
    "                                                      str_cov=str_cov, prior_mu=prior_mu,\n",
    "                                                      debug=True)\n",
    "utils_plotting.plot_gp_via_distribution(\n",
    "    X_train_, Y_train_, X_test_, mu, sigma,\n",
    "    Y_test=Y_test_, use_tex=use_tex,\n",
    "    str_x_axis='$x$', str_y_axis='$y$'\n",
    ")\n",
    "\n",
    "Ys = tp.sample_functions(nu, mu.flatten(), Sigma, num_samples=5)\n",
    "utils_plotting.plot_gp_via_sample(X_test_, Ys, use_tex=use_tex,\n",
    "                                  str_x_axis='$x$', str_y_axis='$y$')"
   ]
  },
  {
   "cell_type": "code",
   "execution_count": null,
   "metadata": {},
   "outputs": [],
   "source": [
    "prior_mu = linear_up\n",
    "nu, mu, sigma, Sigma = tp.predict_with_optimized_hyps(X_train_, Y_train_, X_test_,\n",
    "                                                      str_cov=str_cov, prior_mu=prior_mu,\n",
    "                                                      debug=True)\n",
    "utils_plotting.plot_gp_via_distribution(\n",
    "    X_train_, Y_train_, X_test_, mu, sigma,\n",
    "    Y_test=Y_test_, use_tex=use_tex,\n",
    "    str_x_axis='$x$', str_y_axis='$y$'\n",
    ")\n",
    "\n",
    "Ys = tp.sample_functions(nu, mu.flatten(), Sigma, num_samples=5)\n",
    "utils_plotting.plot_gp_via_sample(X_test_, Ys, use_tex=use_tex,\n",
    "                                  str_x_axis='$x$', str_y_axis='$y$')"
   ]
  },
  {
   "cell_type": "code",
   "execution_count": null,
   "metadata": {},
   "outputs": [],
   "source": []
  }
 ],
 "metadata": {
  "kernelspec": {
   "display_name": "Python 3",
   "language": "python",
   "name": "python3"
  },
  "language_info": {
   "codemirror_mode": {
    "name": "ipython",
    "version": 3
   },
   "file_extension": ".py",
   "mimetype": "text/x-python",
   "name": "python",
   "nbconvert_exporter": "python",
   "pygments_lexer": "ipython3",
   "version": "3.6.9"
  }
 },
 "nbformat": 4,
 "nbformat_minor": 2
}
