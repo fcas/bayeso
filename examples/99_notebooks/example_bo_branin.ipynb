{
 "cells": [
  {
   "cell_type": "markdown",
   "metadata": {},
   "source": [
    "This example is to optimize the Branin function using Bayesian optimization.\n",
    "\n",
    "Import some packages required to this example."
   ]
  },
  {
   "cell_type": "code",
   "execution_count": null,
   "metadata": {},
   "outputs": [],
   "source": [
    "%matplotlib inline\n",
    "\n",
    "import numpy as np\n",
    "\n",
    "from bayeso import bo\n",
    "from bayeso_benchmarks.two_dim_branin import Branin\n",
    "from bayeso.wrappers import wrappers_bo_function\n",
    "from bayeso.utils import utils_plotting"
   ]
  },
  {
   "cell_type": "markdown",
   "metadata": {},
   "source": [
    "Define the Branin function."
   ]
  },
  {
   "cell_type": "code",
   "execution_count": null,
   "metadata": {},
   "outputs": [],
   "source": [
    "obj_fun = Branin()\n",
    "bounds = obj_fun.get_bounds()\n",
    "\n",
    "def fun_target(X):\n",
    "    return obj_fun.output(X)"
   ]
  },
  {
   "cell_type": "markdown",
   "metadata": {},
   "source": [
    "Declare parameters we need.  In particular, the number of Bayesian optimization rounds, the number of interations for a single round, and the number of initial points are declared."
   ]
  },
  {
   "cell_type": "code",
   "execution_count": null,
   "metadata": {},
   "outputs": [],
   "source": [
    "str_fun = 'branin'\n",
    "\n",
    "num_bo = 10\n",
    "num_iter = 50\n",
    "num_init = 3"
   ]
  },
  {
   "cell_type": "markdown",
   "metadata": {},
   "source": [
    "Run `num_bo` Bayesian optimization rounds."
   ]
  },
  {
   "cell_type": "code",
   "execution_count": null,
   "metadata": {},
   "outputs": [],
   "source": [
    "model_bo = bo.BO(bounds, debug=False)\n",
    "list_Y = []\n",
    "list_time = []\n",
    "\n",
    "for ind_bo in range(0, num_bo):\n",
    "    print('BO Round', ind_bo + 1)\n",
    "    X_final, Y_final, time_final, _, _ = wrappers_bo_function.run_single_round(\n",
    "        model_bo, fun_target, num_init, num_iter,\n",
    "        str_initial_method_bo='uniform', str_sampling_method_ao='uniform', num_samples_ao=100,\n",
    "        seed=42 * ind_bo\n",
    "    )\n",
    "    list_Y.append(Y_final)\n",
    "    list_time.append(time_final)\n",
    "\n",
    "arr_Y = np.array(list_Y)\n",
    "arr_time = np.array(list_time)\n",
    "\n",
    "arr_Y = np.expand_dims(np.squeeze(arr_Y), axis=0)\n",
    "arr_time = np.expand_dims(arr_time, axis=0)"
   ]
  },
  {
   "cell_type": "markdown",
   "metadata": {},
   "source": [
    "Plot results versus iterations and elapsed times."
   ]
  },
  {
   "cell_type": "code",
   "execution_count": null,
   "metadata": {},
   "outputs": [],
   "source": [
    "utils_plotting.plot_minimum_vs_iter(arr_Y, [str_fun], num_init, True,\n",
    "    use_tex=True,\n",
    "    str_x_axis=r'\\textrm{Iteration}',\n",
    "    str_y_axis=r'\\textrm{Mininum function value}')\n",
    "utils_plotting.plot_minimum_vs_time(arr_time, arr_Y, [str_fun], num_init, True,\n",
    "    use_tex=True,\n",
    "    str_x_axis=r'\\textrm{Time (sec.)}',\n",
    "    str_y_axis=r'\\textrm{Mininum function value}')"
   ]
  },
  {
   "cell_type": "code",
   "execution_count": null,
   "metadata": {},
   "outputs": [],
   "source": []
  }
 ],
 "metadata": {
  "kernelspec": {
   "display_name": "Python 3.7",
   "language": "python",
   "name": "python3"
  },
  "language_info": {
   "codemirror_mode": {
    "name": "ipython",
    "version": 3
   },
   "file_extension": ".py",
   "mimetype": "text/x-python",
   "name": "python",
   "nbconvert_exporter": "python",
   "pygments_lexer": "ipython3",
   "version": "3.7.0"
  }
 },
 "nbformat": 4,
 "nbformat_minor": 4
}
