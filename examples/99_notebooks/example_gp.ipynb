{
 "cells": [
  {
   "cell_type": "markdown",
   "metadata": {},
   "source": [
    "This example is to construct a Gaussian process regression model.\n",
    "\n",
    "Import some packages required to this example."
   ]
  },
  {
   "cell_type": "code",
   "execution_count": null,
   "metadata": {},
   "outputs": [],
   "source": [
    "%matplotlib inline\n",
    "\n",
    "import numpy as np\n",
    "\n",
    "from bayeso import covariance\n",
    "from bayeso.gp import gp\n",
    "from bayeso.utils import utils_covariance\n",
    "from bayeso.utils import utils_plotting"
   ]
  },
  {
   "cell_type": "markdown",
   "metadata": {},
   "source": [
    "Define parameters we need."
   ]
  },
  {
   "cell_type": "code",
   "execution_count": null,
   "metadata": {},
   "outputs": [],
   "source": [
    "use_tex = False\n",
    "num_test = 200\n",
    "str_cov = 'matern52'"
   ]
  },
  {
   "cell_type": "markdown",
   "metadata": {},
   "source": [
    "Define training and test data points, and their evaluations."
   ]
  },
  {
   "cell_type": "code",
   "execution_count": null,
   "metadata": {},
   "outputs": [],
   "source": [
    "X_train = np.array([\n",
    "    [-3.0],\n",
    "    [-2.0],\n",
    "    [-1.0],\n",
    "    [2.0],\n",
    "    [1.2],\n",
    "    [1.1],\n",
    "])\n",
    "Y_train = np.cos(X_train) + 10.0\n",
    "X_test = np.linspace(-3, 3, num_test)\n",
    "X_test = X_test.reshape((num_test, 1))\n",
    "Y_test = np.cos(X_test) + 10.0"
   ]
  },
  {
   "cell_type": "markdown",
   "metadata": {},
   "source": [
    "Sample `num_samples` functions from a prior distribution and plot them."
   ]
  },
  {
   "cell_type": "code",
   "execution_count": null,
   "metadata": {},
   "outputs": [],
   "source": [
    "mu = np.zeros(num_test)\n",
    "hyps = utils_covariance.get_hyps(str_cov, 1)\n",
    "Sigma = covariance.cov_main(str_cov, X_test, X_test, hyps, True)\n",
    "\n",
    "Ys = gp.sample_functions(mu, Sigma, num_samples=5)\n",
    "utils_plotting.plot_gp_via_sample(X_test, Ys, use_tex=use_tex,\n",
    "                                  str_x_axis='$x$', str_y_axis='$y$')"
   ]
  },
  {
   "cell_type": "markdown",
   "metadata": {},
   "source": [
    "Predict a posterior predictive distribution with fixed hyperparameters and plot it.\n",
    "Also, sample `num_samples` functions from the posterior predictive distribution."
   ]
  },
  {
   "cell_type": "code",
   "execution_count": null,
   "metadata": {},
   "outputs": [],
   "source": [
    "hyps = utils_covariance.get_hyps(str_cov, 1)\n",
    "mu, sigma, Sigma = gp.predict_with_hyps(X_train, Y_train, X_test, hyps, str_cov=str_cov)\n",
    "utils_plotting.plot_gp_via_distribution(\n",
    "    X_train, Y_train, X_test, mu, sigma,\n",
    "    Y_test=Y_test, use_tex=use_tex,\n",
    "    str_x_axis='$x$', str_y_axis='$y$'\n",
    ")\n",
    "\n",
    "Ys = gp.sample_functions(mu.flatten(), Sigma, num_samples=5)\n",
    "utils_plotting.plot_gp_via_sample(X_test, Ys, use_tex=use_tex,\n",
    "                                  str_x_axis='$x$', str_y_axis='$y$')"
   ]
  },
  {
   "cell_type": "markdown",
   "metadata": {},
   "source": [
    "Predict a posterior predictive distribution with learned hyperparameters and plot it.\n",
    "Also, sample `num_samples` functions from the posterior predictive distribution."
   ]
  },
  {
   "cell_type": "code",
   "execution_count": null,
   "metadata": {},
   "outputs": [],
   "source": [
    "mu, sigma, Sigma = gp.predict_with_optimized_hyps(X_train, Y_train, X_test, str_cov=str_cov)\n",
    "utils_plotting.plot_gp_via_distribution(\n",
    "    X_train, Y_train, X_test, mu, sigma,\n",
    "    Y_test=Y_test, use_tex=use_tex,\n",
    "    str_x_axis='$x$', str_y_axis='$y$'\n",
    ")\n",
    "\n",
    "Ys = gp.sample_functions(mu.flatten(), Sigma, num_samples=5)\n",
    "utils_plotting.plot_gp_via_sample(X_test, Ys, use_tex=use_tex,\n",
    "                                  str_x_axis='$x$', str_y_axis='$y$')"
   ]
  },
  {
   "cell_type": "markdown",
   "metadata": {},
   "source": [
    "Define prior functions.\n",
    "`cosine` is a function with a cosine function,\n",
    "`linear_down` is a function with a decreasing function,\n",
    "and `linear_up` is a function with a increasing function."
   ]
  },
  {
   "cell_type": "code",
   "execution_count": null,
   "metadata": {},
   "outputs": [],
   "source": [
    "def cosine(X):\n",
    "    return np.cos(X)\n",
    "\n",
    "def linear_down(X):\n",
    "    list_up = []\n",
    "    for elem_X in X:\n",
    "        list_up.append([-0.5 * np.sum(elem_X)])\n",
    "    return np.array(list_up)\n",
    "\n",
    "def linear_up(X):\n",
    "    list_up = []\n",
    "    for elem_X in X:\n",
    "        list_up.append([0.5 * np.sum(elem_X)])\n",
    "    return np.array(list_up)"
   ]
  },
  {
   "cell_type": "markdown",
   "metadata": {},
   "source": [
    "Define training and test data points, and their evaluations."
   ]
  },
  {
   "cell_type": "code",
   "execution_count": null,
   "metadata": {},
   "outputs": [],
   "source": [
    "X_train = np.array([\n",
    "    [-3.0],\n",
    "    [-2.0],\n",
    "    [-1.0],\n",
    "])\n",
    "Y_train = np.cos(X_train) + 2.0\n",
    "X_test = np.linspace(-3, 6, num_test)\n",
    "X_test = X_test.reshape((num_test, 1))\n",
    "Y_test = np.cos(X_test) + 2.0"
   ]
  },
  {
   "cell_type": "markdown",
   "metadata": {},
   "source": [
    "Predict a posterior predictive distribution with a `cosine` function, and plot it.\n",
    "In addition, sample `num_samples` functions from the distribution, and plot them."
   ]
  },
  {
   "cell_type": "code",
   "execution_count": null,
   "metadata": {},
   "outputs": [],
   "source": [
    "prior_mu = cosine\n",
    "mu, sigma, Sigma = gp.predict_with_optimized_hyps(X_train, Y_train, X_test,\n",
    "                                                  str_cov=str_cov, prior_mu=prior_mu)\n",
    "utils_plotting.plot_gp_via_distribution(\n",
    "    X_train, Y_train, X_test, mu, sigma,\n",
    "    Y_test=Y_test, use_tex=use_tex,\n",
    "    str_x_axis='$x$', str_y_axis='$y$'\n",
    ")\n",
    "\n",
    "Ys = gp.sample_functions(mu.flatten(), Sigma, num_samples=5)\n",
    "utils_plotting.plot_gp_via_sample(X_test, Ys, use_tex=use_tex,\n",
    "                                  str_x_axis='$x$', str_y_axis='$y$')"
   ]
  },
  {
   "cell_type": "markdown",
   "metadata": {},
   "source": [
    "Predict a posterior predictive distribution with a `linear_down` function, and plot it.\n",
    "In addition, sample `num_samples` functions from the distribution, and plot them."
   ]
  },
  {
   "cell_type": "code",
   "execution_count": null,
   "metadata": {},
   "outputs": [],
   "source": [
    "prior_mu = linear_down\n",
    "mu, sigma, Sigma = gp.predict_with_optimized_hyps(X_train, Y_train, X_test,\n",
    "                                                  str_cov=str_cov, prior_mu=prior_mu)\n",
    "utils_plotting.plot_gp_via_distribution(\n",
    "    X_train, Y_train, X_test, mu, sigma,\n",
    "    Y_test=Y_test, use_tex=use_tex,\n",
    "    str_x_axis='$x$', str_y_axis='$y$'\n",
    ")\n",
    "\n",
    "Ys = gp.sample_functions(mu.flatten(), Sigma, num_samples=5)\n",
    "utils_plotting.plot_gp_via_sample(X_test, Ys, use_tex=use_tex,\n",
    "                                  str_x_axis='$x$', str_y_axis='$y$')"
   ]
  },
  {
   "cell_type": "markdown",
   "metadata": {},
   "source": [
    "Predict a posterior predictive distribution with a `linear_up` function, and plot it.\n",
    "In addition, sample `num_samples` functions from the distribution, and plot them."
   ]
  },
  {
   "cell_type": "code",
   "execution_count": null,
   "metadata": {},
   "outputs": [],
   "source": [
    "prior_mu = linear_up\n",
    "mu, sigma, Sigma = gp.predict_with_optimized_hyps(X_train, Y_train, X_test,\n",
    "                                                  str_cov=str_cov, prior_mu=prior_mu)\n",
    "utils_plotting.plot_gp_via_distribution(\n",
    "    X_train, Y_train, X_test, mu, sigma,\n",
    "    Y_test=Y_test, use_tex=use_tex,\n",
    "    str_x_axis='$x$', str_y_axis='$y$'\n",
    ")\n",
    "\n",
    "Ys = gp.sample_functions(mu.flatten(), Sigma, num_samples=5)\n",
    "utils_plotting.plot_gp_via_sample(X_test, Ys, use_tex=use_tex,\n",
    "                                  str_x_axis='$x$', str_y_axis='$y$')"
   ]
  },
  {
   "cell_type": "code",
   "execution_count": null,
   "metadata": {},
   "outputs": [],
   "source": []
  }
 ],
 "metadata": {
  "kernelspec": {
   "display_name": "Python 3.7",
   "language": "python",
   "name": "python3"
  },
  "language_info": {
   "codemirror_mode": {
    "name": "ipython",
    "version": 3
   },
   "file_extension": ".py",
   "mimetype": "text/x-python",
   "name": "python",
   "nbconvert_exporter": "python",
   "pygments_lexer": "ipython3",
   "version": "3.7.0"
  }
 },
 "nbformat": 4,
 "nbformat_minor": 4
}
