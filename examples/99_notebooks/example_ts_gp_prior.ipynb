{
 "cells": [
  {
   "cell_type": "code",
   "execution_count": null,
   "metadata": {},
   "outputs": [],
   "source": [
    "%matplotlib inline\n",
    "\n",
    "import numpy as np\n",
    "\n",
    "from bayeso import covariance\n",
    "from bayeso.gp import gp\n",
    "from bayeso.utils import utils_covariance\n",
    "from bayeso.utils import utils_plotting"
   ]
  },
  {
   "cell_type": "code",
   "execution_count": null,
   "metadata": {},
   "outputs": [],
   "source": [
    "num_points = 1000\n",
    "str_cov = 'se'\n",
    "num_iter = 50\n",
    "num_ts = 10\n",
    "\n",
    "list_Y_min = []\n",
    "\n",
    "X = np.expand_dims(np.linspace(-5, 5, num_points), axis=1)\n",
    "mu = np.zeros(num_points)\n",
    "hyps = utils_covariance.get_hyps(str_cov, 1)\n",
    "Sigma = covariance.cov_main(str_cov, X, X, hyps, True)"
   ]
  },
  {
   "cell_type": "code",
   "execution_count": null,
   "metadata": {
    "scrolled": false
   },
   "outputs": [],
   "source": [
    "for ind_ts in range(0, num_ts):\n",
    "    print('TS Round', ind_ts + 1)\n",
    "    Y = gp.sample_functions(mu, Sigma, num_samples=1)[0]\n",
    "\n",
    "    ind_init = np.argmin(Y)\n",
    "    bx_min = X[ind_init]\n",
    "    y_min = Y[ind_init]\n",
    "    \n",
    "    ind_random = np.random.choice(num_points)\n",
    "\n",
    "    X_ = np.expand_dims(X[ind_random], axis=0)\n",
    "    Y_ = np.expand_dims(np.expand_dims(Y[ind_random], axis=0), axis=1)\n",
    "\n",
    "    for ind_iter in range(0, num_iter):\n",
    "        print(ind_iter + 1, 'iteration')\n",
    "\n",
    "        mu_, sigma_, Sigma_ = gp.predict_with_optimized_hyps(X_, Y_, X, str_cov=str_cov)\n",
    "        ind_ = np.argmin(gp.sample_functions(np.squeeze(mu_, axis=1), Sigma_, num_samples=1)[0])\n",
    "\n",
    "        X_ = np.concatenate([X_, [X[ind_]]], axis=0)\n",
    "        Y_ = np.concatenate([Y_, [[Y[ind_]]]], axis=0)\n",
    "        \n",
    "    list_Y_min.append(Y_ - y_min)\n",
    "\n",
    "Ys = np.array(list_Y_min)\n",
    "Ys = np.squeeze(Ys, axis=2)\n",
    "print(Ys.shape)"
   ]
  },
  {
   "cell_type": "code",
   "execution_count": null,
   "metadata": {},
   "outputs": [],
   "source": [
    "utils_plotting.plot_minimum_vs_iter(\n",
    "    np.array([Ys]), ['TS'], 1, True,\n",
    "    use_tex=True, range_shade=1.0,\n",
    "    str_x_axis=r'\\textrm{Iteration}',\n",
    "    str_y_axis=r'\\textrm{Minimum regret}'\n",
    ")"
   ]
  },
  {
   "cell_type": "code",
   "execution_count": null,
   "metadata": {},
   "outputs": [],
   "source": []
  }
 ],
 "metadata": {
  "kernelspec": {
   "display_name": "Python 3",
   "language": "python",
   "name": "python3"
  },
  "language_info": {
   "codemirror_mode": {
    "name": "ipython",
    "version": 3
   },
   "file_extension": ".py",
   "mimetype": "text/x-python",
   "name": "python",
   "nbconvert_exporter": "python",
   "pygments_lexer": "ipython3",
   "version": "3.6.9"
  }
 },
 "nbformat": 4,
 "nbformat_minor": 2
}
